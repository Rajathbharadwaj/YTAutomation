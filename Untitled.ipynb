{
 "cells": [
  {
   "cell_type": "code",
   "execution_count": 1,
   "id": "df6a3e84-737f-4d3d-bf2d-2ace348892ba",
   "metadata": {},
   "outputs": [
    {
     "name": "stderr",
     "output_type": "stream",
     "text": [
      "USER_AGENT environment variable not set, consider setting it to identify your requests.\n"
     ]
    }
   ],
   "source": [
    "from langchain_community.document_loaders import WebBaseLoader\n",
    "\n",
    "loader = WebBaseLoader(\"https://trends.google.com/trending?geo=US\")"
   ]
  },
  {
   "cell_type": "code",
   "execution_count": 3,
   "id": "9e816a41-3761-4a38-bed6-ced20bdf76b0",
   "metadata": {},
   "outputs": [
    {
     "data": {
      "text/plain": [
       "[Document(metadata={'source': 'https://trends.google.com/trending?geo=US', 'title': 'Trending Now - Google Trends', 'language': 'en-US'}, page_content='Trending Now - Google TrendsTrendsHomeHomeExploreExploreTrending nowTrending now mapsSign inTrendshomeHomesearchExploretrending_upTrending nowcalendar_monthYear in Searchhelp_outlineHelpsms_failedSend feedbacklocation_onSelect location\\xa0\\xa0\\xa0▾Trend locationsearchcalendar_monthPast 24 hours\\xa0\\xa0\\xa0▾Started trendingPast 4 hoursPast 24 hoursPast 48 hoursPast 7 dayscategoryAll categories\\xa0\\xa0\\xa0▾CategoryAll categoriesAutos and VehiclesBeauty and FashionBusiness and FinanceClimateEntertainmentFood and DrinkGamesHealthHobbies and LeisureJobs and EducationLaw and GovernmentOtherPets and AnimalsPoliticsScienceShoppingSportsTechnologyTravel and Transportationgrid_3x3All trends\\xa0\\xa0\\xa0▾Trend statusShow active trends onlysortBy relevance\\xa0\\xa0\\xa0▾Sort byTitleSearch volumeRecencyRelevanceSignificant and recent trendsarrow_back_ios_newarrow_forward_iosios_shareExportcsvDownload CSVcontent_copyCopy to clipboardrss_feedRSS feedios_shareExport\\xa0\\xa0\\xa0▾csvDownload CSVcontent_copyCopy to clipboardrss_feedRSS feedsearchSearch trendsTrendsSort by titleTrendsSearch volumeSort by search volumeStartedSort by recencyinfo_outlineTrend statustrending_upActive: These search queries are still being searched more than usual.timelapseLasted: These queries were searched more than usual sometime in the selected timeframe and are now back to their typical search volume.Tip: Click on the trend time to toggle between elapsed time and start time. All times are displayed in your local time zone.Trend breakdowninfo_outlineTrend breakdownA trend may consist of multiple queries that are variants of the same search or considered to be related. Trend breakdown details these queries.Past 24 hoursPrivacyTermsSend feedbackAbouthelpHelp languageSearchClear searchClose searchGoogle appsMain menu')]"
      ]
     },
     "execution_count": 3,
     "metadata": {},
     "output_type": "execute_result"
    }
   ],
   "source": [
    "docs = loader.load()\n",
    "\n",
    "docs"
   ]
  },
  {
   "cell_type": "code",
   "execution_count": null,
   "id": "15f399a6-e49f-4829-a1bd-b681742e95c5",
   "metadata": {},
   "outputs": [],
   "source": []
  }
 ],
 "metadata": {
  "kernelspec": {
   "display_name": "Python 3 (ipykernel)",
   "language": "python",
   "name": "python3"
  },
  "language_info": {
   "codemirror_mode": {
    "name": "ipython",
    "version": 3
   },
   "file_extension": ".py",
   "mimetype": "text/x-python",
   "name": "python",
   "nbconvert_exporter": "python",
   "pygments_lexer": "ipython3",
   "version": "3.11.10"
  }
 },
 "nbformat": 4,
 "nbformat_minor": 5
}
